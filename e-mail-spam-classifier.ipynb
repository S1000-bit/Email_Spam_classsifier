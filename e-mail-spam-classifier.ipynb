{
 "cells": [
  {
   "cell_type": "code",
   "execution_count": 1,
   "id": "0fed7dbc",
   "metadata": {
    "execution": {
     "iopub.execute_input": "2024-04-12T12:46:45.576859Z",
     "iopub.status.busy": "2024-04-12T12:46:45.575598Z",
     "iopub.status.idle": "2024-04-12T12:46:49.114056Z",
     "shell.execute_reply": "2024-04-12T12:46:49.112778Z"
    },
    "papermill": {
     "duration": 3.55804,
     "end_time": "2024-04-12T12:46:49.117135",
     "exception": false,
     "start_time": "2024-04-12T12:46:45.559095",
     "status": "completed"
    },
    "tags": []
   },
   "outputs": [],
   "source": [
    "import pandas as pd\n",
    "import numpy as np\n",
    "import string\n",
    "from nltk.corpus import stopwords\n",
    "from nltk.stem.porter import PorterStemmer\n",
    "import matplotlib.pyplot as plt\n",
    "from sklearn.feature_extraction.text import CountVectorizer\n",
    "from sklearn.model_selection import train_test_split\n",
    "from sklearn.naive_bayes import GaussianNB,MultinomialNB,BernoulliNB\n",
    "from sklearn.metrics import accuracy_score,confusion_matrix,precision_score\n",
    "from sklearn.linear_model import LogisticRegression\n",
    "from sklearn.svm import SVC\n",
    "from sklearn.tree import DecisionTreeClassifier\n",
    "from sklearn.neighbors import KNeighborsClassifier\n",
    "from sklearn.ensemble import RandomForestClassifier,AdaBoostClassifier,BaggingClassifier,ExtraTreesClassifier,GradientBoostingClassifier\n",
    "from xgboost import XGBClassifier\n"
   ]
  },
  {
   "cell_type": "code",
   "execution_count": 2,
   "id": "de816391",
   "metadata": {
    "execution": {
     "iopub.execute_input": "2024-04-12T12:46:49.144059Z",
     "iopub.status.busy": "2024-04-12T12:46:49.143449Z",
     "iopub.status.idle": "2024-04-12T12:46:49.342476Z",
     "shell.execute_reply": "2024-04-12T12:46:49.341593Z"
    },
    "papermill": {
     "duration": 0.215069,
     "end_time": "2024-04-12T12:46:49.345010",
     "exception": false,
     "start_time": "2024-04-12T12:46:49.129941",
     "status": "completed"
    },
    "tags": []
   },
   "outputs": [
    {
     "data": {
      "text/html": [
       "<div>\n",
       "<style scoped>\n",
       "    .dataframe tbody tr th:only-of-type {\n",
       "        vertical-align: middle;\n",
       "    }\n",
       "\n",
       "    .dataframe tbody tr th {\n",
       "        vertical-align: top;\n",
       "    }\n",
       "\n",
       "    .dataframe thead th {\n",
       "        text-align: right;\n",
       "    }\n",
       "</style>\n",
       "<table border=\"1\" class=\"dataframe\">\n",
       "  <thead>\n",
       "    <tr style=\"text-align: right;\">\n",
       "      <th></th>\n",
       "      <th>text</th>\n",
       "      <th>spam</th>\n",
       "    </tr>\n",
       "  </thead>\n",
       "  <tbody>\n",
       "    <tr>\n",
       "      <th>0</th>\n",
       "      <td>Subject: naturally irresistible your corporate...</td>\n",
       "      <td>1</td>\n",
       "    </tr>\n",
       "    <tr>\n",
       "      <th>1</th>\n",
       "      <td>Subject: the stock trading gunslinger  fanny i...</td>\n",
       "      <td>1</td>\n",
       "    </tr>\n",
       "    <tr>\n",
       "      <th>2</th>\n",
       "      <td>Subject: unbelievable new homes made easy  im ...</td>\n",
       "      <td>1</td>\n",
       "    </tr>\n",
       "    <tr>\n",
       "      <th>3</th>\n",
       "      <td>Subject: 4 color printing special  request add...</td>\n",
       "      <td>1</td>\n",
       "    </tr>\n",
       "    <tr>\n",
       "      <th>4</th>\n",
       "      <td>Subject: do not have money , get software cds ...</td>\n",
       "      <td>1</td>\n",
       "    </tr>\n",
       "    <tr>\n",
       "      <th>5</th>\n",
       "      <td>Subject: great nnews  hello , welcome to medzo...</td>\n",
       "      <td>1</td>\n",
       "    </tr>\n",
       "    <tr>\n",
       "      <th>6</th>\n",
       "      <td>Subject: here ' s a hot play in motion  homela...</td>\n",
       "      <td>1</td>\n",
       "    </tr>\n",
       "    <tr>\n",
       "      <th>7</th>\n",
       "      <td>Subject: save your money buy getting this thin...</td>\n",
       "      <td>1</td>\n",
       "    </tr>\n",
       "    <tr>\n",
       "      <th>8</th>\n",
       "      <td>Subject: undeliverable : home based business f...</td>\n",
       "      <td>1</td>\n",
       "    </tr>\n",
       "    <tr>\n",
       "      <th>9</th>\n",
       "      <td>Subject: save your money buy getting this thin...</td>\n",
       "      <td>1</td>\n",
       "    </tr>\n",
       "  </tbody>\n",
       "</table>\n",
       "</div>"
      ],
      "text/plain": [
       "                                                text  spam\n",
       "0  Subject: naturally irresistible your corporate...     1\n",
       "1  Subject: the stock trading gunslinger  fanny i...     1\n",
       "2  Subject: unbelievable new homes made easy  im ...     1\n",
       "3  Subject: 4 color printing special  request add...     1\n",
       "4  Subject: do not have money , get software cds ...     1\n",
       "5  Subject: great nnews  hello , welcome to medzo...     1\n",
       "6  Subject: here ' s a hot play in motion  homela...     1\n",
       "7  Subject: save your money buy getting this thin...     1\n",
       "8  Subject: undeliverable : home based business f...     1\n",
       "9  Subject: save your money buy getting this thin...     1"
      ]
     },
     "execution_count": 2,
     "metadata": {},
     "output_type": "execute_result"
    }
   ],
   "source": [
    "df= pd.read_csv('/kaggle/input/spam-email-dataset/emails.csv')\n",
    "df.head(10)"
   ]
  },
  {
   "cell_type": "code",
   "execution_count": 3,
   "id": "f1040988",
   "metadata": {
    "execution": {
     "iopub.execute_input": "2024-04-12T12:46:49.372435Z",
     "iopub.status.busy": "2024-04-12T12:46:49.371509Z",
     "iopub.status.idle": "2024-04-12T12:46:49.385643Z",
     "shell.execute_reply": "2024-04-12T12:46:49.384655Z"
    },
    "papermill": {
     "duration": 0.030669,
     "end_time": "2024-04-12T12:46:49.388321",
     "exception": false,
     "start_time": "2024-04-12T12:46:49.357652",
     "status": "completed"
    },
    "tags": []
   },
   "outputs": [
    {
     "name": "stdout",
     "output_type": "stream",
     "text": [
      "(5728, 2)\n",
      "spam\n",
      "0    4360\n",
      "1    1368\n",
      "Name: count, dtype: int64\n"
     ]
    }
   ],
   "source": [
    "print(df.shape)\n",
    "print(df['spam'].value_counts())"
   ]
  },
  {
   "cell_type": "code",
   "execution_count": 4,
   "id": "d772640b",
   "metadata": {
    "execution": {
     "iopub.execute_input": "2024-04-12T12:46:49.416076Z",
     "iopub.status.busy": "2024-04-12T12:46:49.415069Z",
     "iopub.status.idle": "2024-04-12T12:46:49.450655Z",
     "shell.execute_reply": "2024-04-12T12:46:49.449790Z"
    },
    "papermill": {
     "duration": 0.051863,
     "end_time": "2024-04-12T12:46:49.452882",
     "exception": false,
     "start_time": "2024-04-12T12:46:49.401019",
     "status": "completed"
    },
    "tags": []
   },
   "outputs": [
    {
     "data": {
      "text/plain": [
       "33"
      ]
     },
     "execution_count": 4,
     "metadata": {},
     "output_type": "execute_result"
    }
   ],
   "source": [
    "df.duplicated().sum()"
   ]
  },
  {
   "cell_type": "code",
   "execution_count": 5,
   "id": "b54955ca",
   "metadata": {
    "execution": {
     "iopub.execute_input": "2024-04-12T12:46:49.480713Z",
     "iopub.status.busy": "2024-04-12T12:46:49.479921Z",
     "iopub.status.idle": "2024-04-12T12:46:49.522398Z",
     "shell.execute_reply": "2024-04-12T12:46:49.520822Z"
    },
    "papermill": {
     "duration": 0.059553,
     "end_time": "2024-04-12T12:46:49.525279",
     "exception": false,
     "start_time": "2024-04-12T12:46:49.465726",
     "status": "completed"
    },
    "tags": []
   },
   "outputs": [
    {
     "data": {
      "text/html": [
       "<div>\n",
       "<style scoped>\n",
       "    .dataframe tbody tr th:only-of-type {\n",
       "        vertical-align: middle;\n",
       "    }\n",
       "\n",
       "    .dataframe tbody tr th {\n",
       "        vertical-align: top;\n",
       "    }\n",
       "\n",
       "    .dataframe thead th {\n",
       "        text-align: right;\n",
       "    }\n",
       "</style>\n",
       "<table border=\"1\" class=\"dataframe\">\n",
       "  <thead>\n",
       "    <tr style=\"text-align: right;\">\n",
       "      <th></th>\n",
       "      <th>text</th>\n",
       "      <th>spam</th>\n",
       "    </tr>\n",
       "  </thead>\n",
       "  <tbody>\n",
       "    <tr>\n",
       "      <th>0</th>\n",
       "      <td>Subject: naturally irresistible your corporate...</td>\n",
       "      <td>1</td>\n",
       "    </tr>\n",
       "    <tr>\n",
       "      <th>1</th>\n",
       "      <td>Subject: the stock trading gunslinger  fanny i...</td>\n",
       "      <td>1</td>\n",
       "    </tr>\n",
       "    <tr>\n",
       "      <th>2</th>\n",
       "      <td>Subject: unbelievable new homes made easy  im ...</td>\n",
       "      <td>1</td>\n",
       "    </tr>\n",
       "    <tr>\n",
       "      <th>3</th>\n",
       "      <td>Subject: 4 color printing special  request add...</td>\n",
       "      <td>1</td>\n",
       "    </tr>\n",
       "    <tr>\n",
       "      <th>4</th>\n",
       "      <td>Subject: do not have money , get software cds ...</td>\n",
       "      <td>1</td>\n",
       "    </tr>\n",
       "    <tr>\n",
       "      <th>...</th>\n",
       "      <td>...</td>\n",
       "      <td>...</td>\n",
       "    </tr>\n",
       "    <tr>\n",
       "      <th>5723</th>\n",
       "      <td>Subject: re : research and development charges...</td>\n",
       "      <td>0</td>\n",
       "    </tr>\n",
       "    <tr>\n",
       "      <th>5724</th>\n",
       "      <td>Subject: re : receipts from visit  jim ,  than...</td>\n",
       "      <td>0</td>\n",
       "    </tr>\n",
       "    <tr>\n",
       "      <th>5725</th>\n",
       "      <td>Subject: re : enron case study update  wow ! a...</td>\n",
       "      <td>0</td>\n",
       "    </tr>\n",
       "    <tr>\n",
       "      <th>5726</th>\n",
       "      <td>Subject: re : interest  david ,  please , call...</td>\n",
       "      <td>0</td>\n",
       "    </tr>\n",
       "    <tr>\n",
       "      <th>5727</th>\n",
       "      <td>Subject: news : aurora 5 . 2 update  aurora ve...</td>\n",
       "      <td>0</td>\n",
       "    </tr>\n",
       "  </tbody>\n",
       "</table>\n",
       "<p>5695 rows × 2 columns</p>\n",
       "</div>"
      ],
      "text/plain": [
       "                                                   text  spam\n",
       "0     Subject: naturally irresistible your corporate...     1\n",
       "1     Subject: the stock trading gunslinger  fanny i...     1\n",
       "2     Subject: unbelievable new homes made easy  im ...     1\n",
       "3     Subject: 4 color printing special  request add...     1\n",
       "4     Subject: do not have money , get software cds ...     1\n",
       "...                                                 ...   ...\n",
       "5723  Subject: re : research and development charges...     0\n",
       "5724  Subject: re : receipts from visit  jim ,  than...     0\n",
       "5725  Subject: re : enron case study update  wow ! a...     0\n",
       "5726  Subject: re : interest  david ,  please , call...     0\n",
       "5727  Subject: news : aurora 5 . 2 update  aurora ve...     0\n",
       "\n",
       "[5695 rows x 2 columns]"
      ]
     },
     "execution_count": 5,
     "metadata": {},
     "output_type": "execute_result"
    }
   ],
   "source": [
    "df.drop_duplicates(keep= 'first')"
   ]
  },
  {
   "cell_type": "markdown",
   "id": "3c51cbe5",
   "metadata": {
    "papermill": {
     "duration": 0.012619,
     "end_time": "2024-04-12T12:46:49.552980",
     "exception": false,
     "start_time": "2024-04-12T12:46:49.540361",
     "status": "completed"
    },
    "tags": []
   },
   "source": [
    "# EDA :Exploratory data analysis"
   ]
  },
  {
   "cell_type": "code",
   "execution_count": 6,
   "id": "8953a069",
   "metadata": {
    "execution": {
     "iopub.execute_input": "2024-04-12T12:46:49.581710Z",
     "iopub.status.busy": "2024-04-12T12:46:49.581044Z",
     "iopub.status.idle": "2024-04-12T12:46:49.767468Z",
     "shell.execute_reply": "2024-04-12T12:46:49.765646Z"
    },
    "papermill": {
     "duration": 0.206603,
     "end_time": "2024-04-12T12:46:49.772710",
     "exception": false,
     "start_time": "2024-04-12T12:46:49.566107",
     "status": "completed"
    },
    "tags": []
   },
   "outputs": [
    {
     "data": {
      "image/png": "[encoded data removed]",
      "text/plain": [
       "<Figure size 640x480 with 1 Axes>"
      ]
     },
     "metadata": {},
     "output_type": "display_data"
    }
   ],
   "source": [
    "import matplotlib.pyplot as plt\n",
    "plt.pie(df['spam'].value_counts(),labels = ['not spam','spam'],autopct = \"%0.2f\")\n",
    "plt.show()"
   ]
  },
  {
   "cell_type": "markdown",
   "id": "7d5964aa",
   "metadata": {
    "papermill": {
     "duration": 0.018261,
     "end_time": "2024-04-12T12:46:49.822810",
     "exception": false,
     "start_time": "2024-04-12T12:46:49.804549",
     "status": "completed"
    },
    "tags": []
   },
   "source": [
    "# NOTE: Data distribution is uneven"
   ]
  },
  {
   "cell_type": "code",
   "execution_count": 7,
   "id": "42abf867",
   "metadata": {
    "execution": {
     "iopub.execute_input": "2024-04-12T12:46:49.852773Z",
     "iopub.status.busy": "2024-04-12T12:46:49.852350Z",
     "iopub.status.idle": "2024-04-12T12:47:15.033213Z",
     "shell.execute_reply": "2024-04-12T12:47:15.031835Z"
    },
    "papermill": {
     "duration": 25.19931,
     "end_time": "2024-04-12T12:47:15.036197",
     "exception": false,
     "start_time": "2024-04-12T12:46:49.836887",
     "status": "completed"
    },
    "tags": []
   },
   "outputs": [],
   "source": [
    "import nltk\n",
    "df['num_words']=df['text'].apply(lambda x: len(nltk.word_tokenize(x)))"
   ]
  },
  {
   "cell_type": "code",
   "execution_count": 8,
   "id": "9071415e",
   "metadata": {
    "execution": {
     "iopub.execute_input": "2024-04-12T12:47:15.065535Z",
     "iopub.status.busy": "2024-04-12T12:47:15.064580Z",
     "iopub.status.idle": "2024-04-12T12:47:19.770622Z",
     "shell.execute_reply": "2024-04-12T12:47:19.769507Z"
    },
    "papermill": {
     "duration": 4.723469,
     "end_time": "2024-04-12T12:47:19.773294",
     "exception": false,
     "start_time": "2024-04-12T12:47:15.049825",
     "status": "completed"
    },
    "tags": []
   },
   "outputs": [],
   "source": [
    "df['num_sentence'] = df['text'].apply(lambda x: len(nltk.sent_tokenize(x)))"
   ]
  },
  {
   "cell_type": "code",
   "execution_count": 9,
   "id": "ebc4e94f",
   "metadata": {
    "execution": {
     "iopub.execute_input": "2024-04-12T12:47:19.803456Z",
     "iopub.status.busy": "2024-04-12T12:47:19.802998Z",
     "iopub.status.idle": "2024-04-12T12:47:19.816648Z",
     "shell.execute_reply": "2024-04-12T12:47:19.815450Z"
    },
    "papermill": {
     "duration": 0.032182,
     "end_time": "2024-04-12T12:47:19.819712",
     "exception": false,
     "start_time": "2024-04-12T12:47:19.787530",
     "status": "completed"
    },
    "tags": []
   },
   "outputs": [
    {
     "data": {
      "text/html": [
       "<div>\n",
       "<style scoped>\n",
       "    .dataframe tbody tr th:only-of-type {\n",
       "        vertical-align: middle;\n",
       "    }\n",
       "\n",
       "    .dataframe tbody tr th {\n",
       "        vertical-align: top;\n",
       "    }\n",
       "\n",
       "    .dataframe thead th {\n",
       "        text-align: right;\n",
       "    }\n",
       "</style>\n",
       "<table border=\"1\" class=\"dataframe\">\n",
       "  <thead>\n",
       "    <tr style=\"text-align: right;\">\n",
       "      <th></th>\n",
       "      <th>text</th>\n",
       "      <th>spam</th>\n",
       "      <th>num_words</th>\n",
       "      <th>num_sentence</th>\n",
       "    </tr>\n",
       "  </thead>\n",
       "  <tbody>\n",
       "    <tr>\n",
       "      <th>0</th>\n",
       "      <td>Subject: naturally irresistible your corporate...</td>\n",
       "      <td>1</td>\n",
       "      <td>325</td>\n",
       "      <td>11</td>\n",
       "    </tr>\n",
       "    <tr>\n",
       "      <th>1</th>\n",
       "      <td>Subject: the stock trading gunslinger  fanny i...</td>\n",
       "      <td>1</td>\n",
       "      <td>90</td>\n",
       "      <td>1</td>\n",
       "    </tr>\n",
       "    <tr>\n",
       "      <th>2</th>\n",
       "      <td>Subject: unbelievable new homes made easy  im ...</td>\n",
       "      <td>1</td>\n",
       "      <td>88</td>\n",
       "      <td>4</td>\n",
       "    </tr>\n",
       "    <tr>\n",
       "      <th>3</th>\n",
       "      <td>Subject: 4 color printing special  request add...</td>\n",
       "      <td>1</td>\n",
       "      <td>99</td>\n",
       "      <td>5</td>\n",
       "    </tr>\n",
       "    <tr>\n",
       "      <th>4</th>\n",
       "      <td>Subject: do not have money , get software cds ...</td>\n",
       "      <td>1</td>\n",
       "      <td>53</td>\n",
       "      <td>9</td>\n",
       "    </tr>\n",
       "    <tr>\n",
       "      <th>5</th>\n",
       "      <td>Subject: great nnews  hello , welcome to medzo...</td>\n",
       "      <td>1</td>\n",
       "      <td>85</td>\n",
       "      <td>3</td>\n",
       "    </tr>\n",
       "    <tr>\n",
       "      <th>6</th>\n",
       "      <td>Subject: here ' s a hot play in motion  homela...</td>\n",
       "      <td>1</td>\n",
       "      <td>1704</td>\n",
       "      <td>72</td>\n",
       "    </tr>\n",
       "    <tr>\n",
       "      <th>7</th>\n",
       "      <td>Subject: save your money buy getting this thin...</td>\n",
       "      <td>1</td>\n",
       "      <td>97</td>\n",
       "      <td>9</td>\n",
       "    </tr>\n",
       "    <tr>\n",
       "      <th>8</th>\n",
       "      <td>Subject: undeliverable : home based business f...</td>\n",
       "      <td>1</td>\n",
       "      <td>122</td>\n",
       "      <td>3</td>\n",
       "    </tr>\n",
       "    <tr>\n",
       "      <th>9</th>\n",
       "      <td>Subject: save your money buy getting this thin...</td>\n",
       "      <td>1</td>\n",
       "      <td>97</td>\n",
       "      <td>9</td>\n",
       "    </tr>\n",
       "  </tbody>\n",
       "</table>\n",
       "</div>"
      ],
      "text/plain": [
       "                                                text  spam  num_words  \\\n",
       "0  Subject: naturally irresistible your corporate...     1        325   \n",
       "1  Subject: the stock trading gunslinger  fanny i...     1         90   \n",
       "2  Subject: unbelievable new homes made easy  im ...     1         88   \n",
       "3  Subject: 4 color printing special  request add...     1         99   \n",
       "4  Subject: do not have money , get software cds ...     1         53   \n",
       "5  Subject: great nnews  hello , welcome to medzo...     1         85   \n",
       "6  Subject: here ' s a hot play in motion  homela...     1       1704   \n",
       "7  Subject: save your money buy getting this thin...     1         97   \n",
       "8  Subject: undeliverable : home based business f...     1        122   \n",
       "9  Subject: save your money buy getting this thin...     1         97   \n",
       "\n",
       "   num_sentence  \n",
       "0            11  \n",
       "1             1  \n",
       "2             4  \n",
       "3             5  \n",
       "4             9  \n",
       "5             3  \n",
       "6            72  \n",
       "7             9  \n",
       "8             3  \n",
       "9             9  "
      ]
     },
     "execution_count": 9,
     "metadata": {},
     "output_type": "execute_result"
    }
   ],
   "source": [
    "df.head(10)"
   ]
  },
  {
   "cell_type": "code",
   "execution_count": 10,
   "id": "43c60bcc",
   "metadata": {
    "execution": {
     "iopub.execute_input": "2024-04-12T12:47:19.850207Z",
     "iopub.status.busy": "2024-04-12T12:47:19.849291Z",
     "iopub.status.idle": "2024-04-12T12:47:19.874079Z",
     "shell.execute_reply": "2024-04-12T12:47:19.872617Z"
    },
    "papermill": {
     "duration": 0.043488,
     "end_time": "2024-04-12T12:47:19.876889",
     "exception": false,
     "start_time": "2024-04-12T12:47:19.833401",
     "status": "completed"
    },
    "tags": []
   },
   "outputs": [
    {
     "data": {
      "text/html": [
       "<div>\n",
       "<style scoped>\n",
       "    .dataframe tbody tr th:only-of-type {\n",
       "        vertical-align: middle;\n",
       "    }\n",
       "\n",
       "    .dataframe tbody tr th {\n",
       "        vertical-align: top;\n",
       "    }\n",
       "\n",
       "    .dataframe thead th {\n",
       "        text-align: right;\n",
       "    }\n",
       "</style>\n",
       "<table border=\"1\" class=\"dataframe\">\n",
       "  <thead>\n",
       "    <tr style=\"text-align: right;\">\n",
       "      <th></th>\n",
       "      <th>num_words</th>\n",
       "      <th>num_sentence</th>\n",
       "    </tr>\n",
       "  </thead>\n",
       "  <tbody>\n",
       "    <tr>\n",
       "      <th>count</th>\n",
       "      <td>5728.000000</td>\n",
       "      <td>5728.000000</td>\n",
       "    </tr>\n",
       "    <tr>\n",
       "      <th>mean</th>\n",
       "      <td>327.982542</td>\n",
       "      <td>19.483240</td>\n",
       "    </tr>\n",
       "    <tr>\n",
       "      <th>std</th>\n",
       "      <td>418.833125</td>\n",
       "      <td>35.936051</td>\n",
       "    </tr>\n",
       "    <tr>\n",
       "      <th>min</th>\n",
       "      <td>3.000000</td>\n",
       "      <td>1.000000</td>\n",
       "    </tr>\n",
       "    <tr>\n",
       "      <th>25%</th>\n",
       "      <td>102.000000</td>\n",
       "      <td>7.000000</td>\n",
       "    </tr>\n",
       "    <tr>\n",
       "      <th>50%</th>\n",
       "      <td>211.000000</td>\n",
       "      <td>12.000000</td>\n",
       "    </tr>\n",
       "    <tr>\n",
       "      <th>75%</th>\n",
       "      <td>403.000000</td>\n",
       "      <td>22.000000</td>\n",
       "    </tr>\n",
       "    <tr>\n",
       "      <th>max</th>\n",
       "      <td>8479.000000</td>\n",
       "      <td>1565.000000</td>\n",
       "    </tr>\n",
       "  </tbody>\n",
       "</table>\n",
       "</div>"
      ],
      "text/plain": [
       "         num_words  num_sentence\n",
       "count  5728.000000   5728.000000\n",
       "mean    327.982542     19.483240\n",
       "std     418.833125     35.936051\n",
       "min       3.000000      1.000000\n",
       "25%     102.000000      7.000000\n",
       "50%     211.000000     12.000000\n",
       "75%     403.000000     22.000000\n",
       "max    8479.000000   1565.000000"
      ]
     },
     "execution_count": 10,
     "metadata": {},
     "output_type": "execute_result"
    }
   ],
   "source": [
    "df[['num_words','num_sentence']].describe()"
   ]
  },
  {
   "cell_type": "code",
   "execution_count": 11,
   "id": "8270d1f9",
   "metadata": {
    "execution": {
     "iopub.execute_input": "2024-04-12T12:47:19.909162Z",
     "iopub.status.busy": "2024-04-12T12:47:19.908711Z",
     "iopub.status.idle": "2024-04-12T12:47:19.929528Z",
     "shell.execute_reply": "2024-04-12T12:47:19.928391Z"
    },
    "papermill": {
     "duration": 0.040742,
     "end_time": "2024-04-12T12:47:19.931863",
     "exception": false,
     "start_time": "2024-04-12T12:47:19.891121",
     "status": "completed"
    },
    "tags": []
   },
   "outputs": [
    {
     "data": {
      "text/html": [
       "<div>\n",
       "<style scoped>\n",
       "    .dataframe tbody tr th:only-of-type {\n",
       "        vertical-align: middle;\n",
       "    }\n",
       "\n",
       "    .dataframe tbody tr th {\n",
       "        vertical-align: top;\n",
       "    }\n",
       "\n",
       "    .dataframe thead th {\n",
       "        text-align: right;\n",
       "    }\n",
       "</style>\n",
       "<table border=\"1\" class=\"dataframe\">\n",
       "  <thead>\n",
       "    <tr style=\"text-align: right;\">\n",
       "      <th></th>\n",
       "      <th>num_words</th>\n",
       "      <th>num_sentence</th>\n",
       "    </tr>\n",
       "  </thead>\n",
       "  <tbody>\n",
       "    <tr>\n",
       "      <th>count</th>\n",
       "      <td>1368.000000</td>\n",
       "      <td>1368.000000</td>\n",
       "    </tr>\n",
       "    <tr>\n",
       "      <th>mean</th>\n",
       "      <td>267.896199</td>\n",
       "      <td>18.274123</td>\n",
       "    </tr>\n",
       "    <tr>\n",
       "      <th>std</th>\n",
       "      <td>451.623124</td>\n",
       "      <td>28.130434</td>\n",
       "    </tr>\n",
       "    <tr>\n",
       "      <th>min</th>\n",
       "      <td>5.000000</td>\n",
       "      <td>1.000000</td>\n",
       "    </tr>\n",
       "    <tr>\n",
       "      <th>25%</th>\n",
       "      <td>80.000000</td>\n",
       "      <td>6.000000</td>\n",
       "    </tr>\n",
       "    <tr>\n",
       "      <th>50%</th>\n",
       "      <td>141.000000</td>\n",
       "      <td>11.000000</td>\n",
       "    </tr>\n",
       "    <tr>\n",
       "      <th>75%</th>\n",
       "      <td>252.000000</td>\n",
       "      <td>18.000000</td>\n",
       "    </tr>\n",
       "    <tr>\n",
       "      <th>max</th>\n",
       "      <td>6131.000000</td>\n",
       "      <td>438.000000</td>\n",
       "    </tr>\n",
       "  </tbody>\n",
       "</table>\n",
       "</div>"
      ],
      "text/plain": [
       "         num_words  num_sentence\n",
       "count  1368.000000   1368.000000\n",
       "mean    267.896199     18.274123\n",
       "std     451.623124     28.130434\n",
       "min       5.000000      1.000000\n",
       "25%      80.000000      6.000000\n",
       "50%     141.000000     11.000000\n",
       "75%     252.000000     18.000000\n",
       "max    6131.000000    438.000000"
      ]
     },
     "execution_count": 11,
     "metadata": {},
     "output_type": "execute_result"
    }
   ],
   "source": [
    "df[df['spam'] == 1][['num_words','num_sentence']].describe()"
   ]
  },
  {
   "cell_type": "code",
   "execution_count": 12,
   "id": "4f8210cd",
   "metadata": {
    "execution": {
     "iopub.execute_input": "2024-04-12T12:47:19.962851Z",
     "iopub.status.busy": "2024-04-12T12:47:19.961448Z",
     "iopub.status.idle": "2024-04-12T12:47:19.982698Z",
     "shell.execute_reply": "2024-04-12T12:47:19.981449Z"
    },
    "papermill": {
     "duration": 0.039275,
     "end_time": "2024-04-12T12:47:19.985347",
     "exception": false,
     "start_time": "2024-04-12T12:47:19.946072",
     "status": "completed"
    },
    "tags": []
   },
   "outputs": [
    {
     "data": {
      "text/html": [
       "<div>\n",
       "<style scoped>\n",
       "    .dataframe tbody tr th:only-of-type {\n",
       "        vertical-align: middle;\n",
       "    }\n",
       "\n",
       "    .dataframe tbody tr th {\n",
       "        vertical-align: top;\n",
       "    }\n",
       "\n",
       "    .dataframe thead th {\n",
       "        text-align: right;\n",
       "    }\n",
       "</style>\n",
       "<table border=\"1\" class=\"dataframe\">\n",
       "  <thead>\n",
       "    <tr style=\"text-align: right;\">\n",
       "      <th></th>\n",
       "      <th>num_words</th>\n",
       "      <th>num_sentence</th>\n",
       "    </tr>\n",
       "  </thead>\n",
       "  <tbody>\n",
       "    <tr>\n",
       "      <th>count</th>\n",
       "      <td>4360.000000</td>\n",
       "      <td>4360.000000</td>\n",
       "    </tr>\n",
       "    <tr>\n",
       "      <th>mean</th>\n",
       "      <td>346.835321</td>\n",
       "      <td>19.862615</td>\n",
       "    </tr>\n",
       "    <tr>\n",
       "      <th>std</th>\n",
       "      <td>406.228875</td>\n",
       "      <td>38.051542</td>\n",
       "    </tr>\n",
       "    <tr>\n",
       "      <th>min</th>\n",
       "      <td>3.000000</td>\n",
       "      <td>1.000000</td>\n",
       "    </tr>\n",
       "    <tr>\n",
       "      <th>25%</th>\n",
       "      <td>120.000000</td>\n",
       "      <td>7.000000</td>\n",
       "    </tr>\n",
       "    <tr>\n",
       "      <th>50%</th>\n",
       "      <td>240.000000</td>\n",
       "      <td>13.000000</td>\n",
       "    </tr>\n",
       "    <tr>\n",
       "      <th>75%</th>\n",
       "      <td>440.250000</td>\n",
       "      <td>22.000000</td>\n",
       "    </tr>\n",
       "    <tr>\n",
       "      <th>max</th>\n",
       "      <td>8479.000000</td>\n",
       "      <td>1565.000000</td>\n",
       "    </tr>\n",
       "  </tbody>\n",
       "</table>\n",
       "</div>"
      ],
      "text/plain": [
       "         num_words  num_sentence\n",
       "count  4360.000000   4360.000000\n",
       "mean    346.835321     19.862615\n",
       "std     406.228875     38.051542\n",
       "min       3.000000      1.000000\n",
       "25%     120.000000      7.000000\n",
       "50%     240.000000     13.000000\n",
       "75%     440.250000     22.000000\n",
       "max    8479.000000   1565.000000"
      ]
     },
     "execution_count": 12,
     "metadata": {},
     "output_type": "execute_result"
    }
   ],
   "source": [
    "df[df['spam'] == 0][['num_words','num_sentence']].describe()"
   ]
  },
  {
   "cell_type": "code",
   "execution_count": 13,
   "id": "889570e9",
   "metadata": {
    "execution": {
     "iopub.execute_input": "2024-04-12T12:47:20.017049Z",
     "iopub.status.busy": "2024-04-12T12:47:20.016275Z",
     "iopub.status.idle": "2024-04-12T12:47:21.579946Z",
     "shell.execute_reply": "2024-04-12T12:47:21.578667Z"
    },
    "papermill": {
     "duration": 1.582612,
     "end_time": "2024-04-12T12:47:21.582757",
     "exception": false,
     "start_time": "2024-04-12T12:47:20.000145",
     "status": "completed"
    },
    "tags": []
   },
   "outputs": [
    {
     "name": "stderr",
     "output_type": "stream",
     "text": [
      "/opt/conda/lib/python3.10/site-packages/seaborn/_oldcore.py:1119: FutureWarning: use_inf_as_na option is deprecated and will be removed in a future version. Convert inf values to NaN before operating instead.\n",
      "  with pd.option_context('mode.use_inf_as_na', True):\n",
      "/opt/conda/lib/python3.10/site-packages/seaborn/_oldcore.py:1119: FutureWarning: use_inf_as_na option is deprecated and will be removed in a future version. Convert inf values to NaN before operating instead.\n",
      "  with pd.option_context('mode.use_inf_as_na', True):\n"
     ]
    },
    {
     "data": {
      "text/plain": [
       "<Axes: xlabel='num_words', ylabel='Count'>"
      ]
     },
     "execution_count": 13,
     "metadata": {},
     "output_type": "execute_result"
    },
    {
     "data": {
      "image/png": "[encoded data removed]",
      "text/plain": [
       "<Figure size 640x480 with 1 Axes>"
      ]
     },
     "metadata": {},
     "output_type": "display_data"
    }
   ],
   "source": [
    "import seaborn as sns\n",
    "sns.histplot(df[df['spam']==0]['num_words'],color ='red')\n",
    "sns.histplot(df[df['spam']==1]['num_words'],color = 'yellow')"
   ]
  },
  {
   "cell_type": "code",
   "execution_count": 14,
   "id": "7675087e",
   "metadata": {
    "execution": {
     "iopub.execute_input": "2024-04-12T12:47:21.615939Z",
     "iopub.status.busy": "2024-04-12T12:47:21.615466Z",
     "iopub.status.idle": "2024-04-12T12:47:24.864292Z",
     "shell.execute_reply": "2024-04-12T12:47:24.863028Z"
    },
    "papermill": {
     "duration": 3.268673,
     "end_time": "2024-04-12T12:47:24.866998",
     "exception": false,
     "start_time": "2024-04-12T12:47:21.598325",
     "status": "completed"
    },
    "tags": []
   },
   "outputs": [
    {
     "name": "stderr",
     "output_type": "stream",
     "text": [
      "/opt/conda/lib/python3.10/site-packages/seaborn/_oldcore.py:1119: FutureWarning: use_inf_as_na option is deprecated and will be removed in a future version. Convert inf values to NaN before operating instead.\n",
      "  with pd.option_context('mode.use_inf_as_na', True):\n",
      "/opt/conda/lib/python3.10/site-packages/seaborn/_oldcore.py:1075: FutureWarning: When grouping with a length-1 list-like, you will need to pass a length-1 tuple to get_group in a future version of pandas. Pass `(name,)` instead of `name` to silence this warning.\n",
      "  data_subset = grouped_data.get_group(pd_key)\n",
      "/opt/conda/lib/python3.10/site-packages/seaborn/_oldcore.py:1075: FutureWarning: When grouping with a length-1 list-like, you will need to pass a length-1 tuple to get_group in a future version of pandas. Pass `(name,)` instead of `name` to silence this warning.\n",
      "  data_subset = grouped_data.get_group(pd_key)\n",
      "/opt/conda/lib/python3.10/site-packages/seaborn/_oldcore.py:1119: FutureWarning: use_inf_as_na option is deprecated and will be removed in a future version. Convert inf values to NaN before operating instead.\n",
      "  with pd.option_context('mode.use_inf_as_na', True):\n",
      "/opt/conda/lib/python3.10/site-packages/seaborn/_oldcore.py:1075: FutureWarning: When grouping with a length-1 list-like, you will need to pass a length-1 tuple to get_group in a future version of pandas. Pass `(name,)` instead of `name` to silence this warning.\n",
      "  data_subset = grouped_data.get_group(pd_key)\n",
      "/opt/conda/lib/python3.10/site-packages/seaborn/_oldcore.py:1075: FutureWarning: When grouping with a length-1 list-like, you will need to pass a length-1 tuple to get_group in a future version of pandas. Pass `(name,)` instead of `name` to silence this warning.\n",
      "  data_subset = grouped_data.get_group(pd_key)\n"
     ]
    },
    {
     "data": {
      "text/plain": [
       "<seaborn.axisgrid.PairGrid at 0x7abecf1e2e90>"
      ]
     },
     "execution_count": 14,
     "metadata": {},
     "output_type": "execute_result"
    },
    {
     "data": {
      "image/png": "[encoded data removed]",
      "text/plain": [
       "<Figure size 558.875x500 with 6 Axes>"
      ]
     },
     "metadata": {},
     "output_type": "display_data"
    }
   ],
   "source": [
    "sns.pairplot(df,hue = 'spam')"
   ]
  },
  {
   "cell_type": "code",
   "execution_count": 15,
   "id": "e34772ee",
   "metadata": {
    "execution": {
     "iopub.execute_input": "2024-04-12T12:47:24.902382Z",
     "iopub.status.busy": "2024-04-12T12:47:24.901887Z",
     "iopub.status.idle": "2024-04-12T12:47:24.909117Z",
     "shell.execute_reply": "2024-04-12T12:47:24.907970Z"
    },
    "papermill": {
     "duration": 0.028656,
     "end_time": "2024-04-12T12:47:24.912145",
     "exception": false,
     "start_time": "2024-04-12T12:47:24.883489",
     "status": "completed"
    },
    "tags": []
   },
   "outputs": [],
   "source": [
    "sample= df.drop(columns = 'text',axis = 0)"
   ]
  },
  {
   "cell_type": "code",
   "execution_count": 16,
   "id": "02159d9b",
   "metadata": {
    "execution": {
     "iopub.execute_input": "2024-04-12T12:47:24.947945Z",
     "iopub.status.busy": "2024-04-12T12:47:24.947438Z",
     "iopub.status.idle": "2024-04-12T12:47:25.316869Z",
     "shell.execute_reply": "2024-04-12T12:47:25.315427Z"
    },
    "papermill": {
     "duration": 0.390684,
     "end_time": "2024-04-12T12:47:25.319631",
     "exception": false,
     "start_time": "2024-04-12T12:47:24.928947",
     "status": "completed"
    },
    "tags": []
   },
   "outputs": [
    {
     "data": {
      "text/plain": [
       "<Axes: >"
      ]
     },
     "execution_count": 16,
     "metadata": {},
     "output_type": "execute_result"
    },
    {
     "data": {
      "image/png": "[encoded data removed]",
      "text/plain": [
       "<Figure size 640x480 with 2 Axes>"
      ]
     },
     "metadata": {},
     "output_type": "display_data"
    }
   ],
   "source": [
    "sns.heatmap(sample.corr(),annot = True)"
   ]
  },
  {
   "cell_type": "code",
   "execution_count": 17,
   "id": "ab84768a",
   "metadata": {
    "execution": {
     "iopub.execute_input": "2024-04-12T12:47:25.356972Z",
     "iopub.status.busy": "2024-04-12T12:47:25.356476Z",
     "iopub.status.idle": "2024-04-12T12:47:25.365252Z",
     "shell.execute_reply": "2024-04-12T12:47:25.363936Z"
    },
    "papermill": {
     "duration": 0.030456,
     "end_time": "2024-04-12T12:47:25.368057",
     "exception": false,
     "start_time": "2024-04-12T12:47:25.337601",
     "status": "completed"
    },
    "tags": []
   },
   "outputs": [],
   "source": [
    "def transform_text(text):\n",
    "    text = text.lower()\n",
    "    text = nltk.word_tokenize(text)\n",
    "    \n",
    "    y = []\n",
    "    for i in text:\n",
    "        if i.isalnum():\n",
    "            y.append(i)\n",
    "    text = y[:]\n",
    "    y.clear()\n",
    "    \n",
    "    for i in text:\n",
    "        if i not in stopwords.words('english') and i not in string.punctuation:\n",
    "            y.append(i)\n",
    "            \n",
    "    text = y[:]\n",
    "    y.clear()\n",
    "    for i in text:\n",
    "        y.append(PorterStemmer().stem(i))\n",
    "        \n",
    "    return \" \".join(y)\n",
    "    "
   ]
  },
  {
   "cell_type": "code",
   "execution_count": 18,
   "id": "a34dba21",
   "metadata": {
    "execution": {
     "iopub.execute_input": "2024-04-12T12:47:25.405117Z",
     "iopub.status.busy": "2024-04-12T12:47:25.404640Z",
     "iopub.status.idle": "2024-04-12T12:51:49.553383Z",
     "shell.execute_reply": "2024-04-12T12:51:49.552402Z"
    },
    "papermill": {
     "duration": 264.170737,
     "end_time": "2024-04-12T12:51:49.556261",
     "exception": false,
     "start_time": "2024-04-12T12:47:25.385524",
     "status": "completed"
    },
    "tags": []
   },
   "outputs": [],
   "source": [
    "df['text'] = df['text'].apply(transform_text)"
   ]
  },
  {
   "cell_type": "code",
   "execution_count": 19,
   "id": "eeaccab3",
   "metadata": {
    "execution": {
     "iopub.execute_input": "2024-04-12T12:51:49.593625Z",
     "iopub.status.busy": "2024-04-12T12:51:49.592406Z",
     "iopub.status.idle": "2024-04-12T12:51:49.600659Z",
     "shell.execute_reply": "2024-04-12T12:51:49.599433Z"
    },
    "papermill": {
     "duration": 0.029643,
     "end_time": "2024-04-12T12:51:49.603249",
     "exception": false,
     "start_time": "2024-04-12T12:51:49.573606",
     "status": "completed"
    },
    "tags": []
   },
   "outputs": [
    {
     "data": {
      "text/plain": [
       "'subject natur irresist corpor ident lt realli hard recollect compani market full suqgest inform isoverwhelminq good catchi logo stylish statloneri outstand websit make task much easier promis havinq order iogo compani automaticaili becom world ieader isguit ciear without good product effect busi organ practic aim hotat nowaday market promis market effort becom much effect list clear benefit creativ hand made origin logo special done reflect distinct compani imag conveni logo stationeri provid format easi use content manag system letsyou chang websit content even structur prompt see logo draft within three busi day afford market break make gap budget 100 satisfact guarante provid unlimit amount chang extra fee surethat love result collabor look portfolio interest'"
      ]
     },
     "execution_count": 19,
     "metadata": {},
     "output_type": "execute_result"
    }
   ],
   "source": [
    "df['text'][0]"
   ]
  },
  {
   "cell_type": "code",
   "execution_count": 20,
   "id": "9a51bd3f",
   "metadata": {
    "execution": {
     "iopub.execute_input": "2024-04-12T12:51:49.640558Z",
     "iopub.status.busy": "2024-04-12T12:51:49.640134Z",
     "iopub.status.idle": "2024-04-12T12:51:49.691375Z",
     "shell.execute_reply": "2024-04-12T12:51:49.690486Z"
    },
    "papermill": {
     "duration": 0.07312,
     "end_time": "2024-04-12T12:51:49.693995",
     "exception": false,
     "start_time": "2024-04-12T12:51:49.620875",
     "status": "completed"
    },
    "tags": []
   },
   "outputs": [],
   "source": [
    "spam_corpus =[]\n",
    "for msg in df[df['spam']==1]['text'].tolist():\n",
    "    for word in msg.split():\n",
    "        spam_corpus.append(word)"
   ]
  },
  {
   "cell_type": "code",
   "execution_count": 21,
   "id": "b72359da",
   "metadata": {
    "execution": {
     "iopub.execute_input": "2024-04-12T12:51:49.731054Z",
     "iopub.status.busy": "2024-04-12T12:51:49.730279Z",
     "iopub.status.idle": "2024-04-12T12:51:49.736872Z",
     "shell.execute_reply": "2024-04-12T12:51:49.735637Z"
    },
    "papermill": {
     "duration": 0.028059,
     "end_time": "2024-04-12T12:51:49.739584",
     "exception": false,
     "start_time": "2024-04-12T12:51:49.711525",
     "status": "completed"
    },
    "tags": []
   },
   "outputs": [
    {
     "data": {
      "text/plain": [
       "174630"
      ]
     },
     "execution_count": 21,
     "metadata": {},
     "output_type": "execute_result"
    }
   ],
   "source": [
    "len(spam_corpus)"
   ]
  },
  {
   "cell_type": "code",
   "execution_count": 22,
   "id": "263af0ab",
   "metadata": {
    "execution": {
     "iopub.execute_input": "2024-04-12T12:51:49.778075Z",
     "iopub.status.busy": "2024-04-12T12:51:49.776799Z",
     "iopub.status.idle": "2024-04-12T12:51:50.378078Z",
     "shell.execute_reply": "2024-04-12T12:51:50.376831Z"
    },
    "papermill": {
     "duration": 0.623575,
     "end_time": "2024-04-12T12:51:50.381127",
     "exception": false,
     "start_time": "2024-04-12T12:51:49.757552",
     "status": "completed"
    },
    "tags": []
   },
   "outputs": [
    {
     "data": {
      "text/plain": [
       "<Axes: xlabel='Count', ylabel='Word'>"
      ]
     },
     "execution_count": 22,
     "metadata": {},
     "output_type": "execute_result"
    },
    {
     "data": {
      "image/png": "[encoded data removed]",
      "text/plain": [
       "<Figure size 640x480 with 1 Axes>"
      ]
     },
     "metadata": {},
     "output_type": "display_data"
    }
   ],
   "source": [
    "from collections import Counter\n",
    "word_counts = Counter(spam_corpus)\n",
    "top_30_words = word_counts.most_common(30)\n",
    "new = pd.DataFrame(top_30_words, columns=['Word', 'Count'])\n",
    "sns.barplot(x='Count', y='Word', data=new)"
   ]
  },
  {
   "cell_type": "markdown",
   "id": "c9176d07",
   "metadata": {
    "papermill": {
     "duration": 0.017907,
     "end_time": "2024-04-12T12:51:50.417424",
     "exception": false,
     "start_time": "2024-04-12T12:51:50.399517",
     "status": "completed"
    },
    "tags": []
   },
   "source": [
    "# model Building"
   ]
  },
  {
   "cell_type": "code",
   "execution_count": 23,
   "id": "6e7c3fd7",
   "metadata": {
    "execution": {
     "iopub.execute_input": "2024-04-12T12:51:50.455450Z",
     "iopub.status.busy": "2024-04-12T12:51:50.455010Z",
     "iopub.status.idle": "2024-04-12T12:51:52.398526Z",
     "shell.execute_reply": "2024-04-12T12:51:52.396908Z"
    },
    "papermill": {
     "duration": 1.966204,
     "end_time": "2024-04-12T12:51:52.401671",
     "exception": false,
     "start_time": "2024-04-12T12:51:50.435467",
     "status": "completed"
    },
    "tags": []
   },
   "outputs": [],
   "source": [
    "cv= CountVectorizer()\n",
    "X = cv.fit_transform(df['text']).toarray()"
   ]
  },
  {
   "cell_type": "code",
   "execution_count": 24,
   "id": "d0019b86",
   "metadata": {
    "execution": {
     "iopub.execute_input": "2024-04-12T12:51:52.445792Z",
     "iopub.status.busy": "2024-04-12T12:51:52.444895Z",
     "iopub.status.idle": "2024-04-12T12:51:52.453498Z",
     "shell.execute_reply": "2024-04-12T12:51:52.452324Z"
    },
    "papermill": {
     "duration": 0.033454,
     "end_time": "2024-04-12T12:51:52.456146",
     "exception": false,
     "start_time": "2024-04-12T12:51:52.422692",
     "status": "completed"
    },
    "tags": []
   },
   "outputs": [
    {
     "data": {
      "text/plain": [
       "(5728, 29220)"
      ]
     },
     "execution_count": 24,
     "metadata": {},
     "output_type": "execute_result"
    }
   ],
   "source": [
    "X.shape"
   ]
  },
  {
   "cell_type": "code",
   "execution_count": 25,
   "id": "9ba34797",
   "metadata": {
    "execution": {
     "iopub.execute_input": "2024-04-12T12:51:52.496492Z",
     "iopub.status.busy": "2024-04-12T12:51:52.495988Z",
     "iopub.status.idle": "2024-04-12T12:51:52.501951Z",
     "shell.execute_reply": "2024-04-12T12:51:52.500794Z"
    },
    "papermill": {
     "duration": 0.029345,
     "end_time": "2024-04-12T12:51:52.504682",
     "exception": false,
     "start_time": "2024-04-12T12:51:52.475337",
     "status": "completed"
    },
    "tags": []
   },
   "outputs": [],
   "source": [
    "y = df['spam'].values"
   ]
  },
  {
   "cell_type": "code",
   "execution_count": 26,
   "id": "facd1d54",
   "metadata": {
    "execution": {
     "iopub.execute_input": "2024-04-12T12:51:52.613421Z",
     "iopub.status.busy": "2024-04-12T12:51:52.612981Z",
     "iopub.status.idle": "2024-04-12T12:51:52.621111Z",
     "shell.execute_reply": "2024-04-12T12:51:52.619863Z"
    },
    "papermill": {
     "duration": 0.09967,
     "end_time": "2024-04-12T12:51:52.623724",
     "exception": false,
     "start_time": "2024-04-12T12:51:52.524054",
     "status": "completed"
    },
    "tags": []
   },
   "outputs": [
    {
     "data": {
      "text/plain": [
       "array([1, 1, 1, ..., 0, 0, 0])"
      ]
     },
     "execution_count": 26,
     "metadata": {},
     "output_type": "execute_result"
    }
   ],
   "source": [
    "y"
   ]
  },
  {
   "cell_type": "code",
   "execution_count": 27,
   "id": "a97a3b33",
   "metadata": {
    "execution": {
     "iopub.execute_input": "2024-04-12T12:51:52.662984Z",
     "iopub.status.busy": "2024-04-12T12:51:52.662513Z",
     "iopub.status.idle": "2024-04-12T12:51:53.500648Z",
     "shell.execute_reply": "2024-04-12T12:51:53.499351Z"
    },
    "papermill": {
     "duration": 0.861272,
     "end_time": "2024-04-12T12:51:53.503752",
     "exception": false,
     "start_time": "2024-04-12T12:51:52.642480",
     "status": "completed"
    },
    "tags": []
   },
   "outputs": [],
   "source": [
    "X_train,X_test,y_train,y_test = train_test_split(X,y,test_size = 0.2,random_state = 42)"
   ]
  },
  {
   "cell_type": "code",
   "execution_count": 28,
   "id": "f4b442e1",
   "metadata": {
    "execution": {
     "iopub.execute_input": "2024-04-12T12:51:53.543537Z",
     "iopub.status.busy": "2024-04-12T12:51:53.543101Z",
     "iopub.status.idle": "2024-04-12T12:51:53.553438Z",
     "shell.execute_reply": "2024-04-12T12:51:53.552068Z"
    },
    "papermill": {
     "duration": 0.033797,
     "end_time": "2024-04-12T12:51:53.556191",
     "exception": false,
     "start_time": "2024-04-12T12:51:53.522394",
     "status": "completed"
    },
    "tags": []
   },
   "outputs": [],
   "source": [
    "svc = SVC(kernel= 'sigmoid', gamma=1.0)\n",
    "knc = KNeighborsClassifier()\n",
    "mnb = MultinomialNB()\n",
    "bnb = BernoulliNB()\n",
    "gnb = GaussianNB()\n",
    "dc = DecisionTreeClassifier(max_depth=5)\n",
    "rc = LogisticRegression(solver='liblinear', penalty='l1')\n",
    "rfc = RandomForestClassifier(n_estimators=50, random_state=2)\n",
    "abc = AdaBoostClassifier(n_estimators=50, random_state=2)\n",
    "bc = BaggingClassifier(n_estimators =50, random_state=2)\n",
    "etc = ExtraTreesClassifier(n_estimators=50, random_state=2)\n",
    "gbdt = GradientBoostingClassifier(n_estimators=50, random_state=2)\n",
    "xgb = XGBClassifier(n_estimators=50, random_state=2)"
   ]
  },
  {
   "cell_type": "code",
   "execution_count": 29,
   "id": "be3665ac",
   "metadata": {
    "execution": {
     "iopub.execute_input": "2024-04-12T12:51:53.596194Z",
     "iopub.status.busy": "2024-04-12T12:51:53.595789Z",
     "iopub.status.idle": "2024-04-12T12:51:53.601948Z",
     "shell.execute_reply": "2024-04-12T12:51:53.600794Z"
    },
    "papermill": {
     "duration": 0.029106,
     "end_time": "2024-04-12T12:51:53.604547",
     "exception": false,
     "start_time": "2024-04-12T12:51:53.575441",
     "status": "completed"
    },
    "tags": []
   },
   "outputs": [],
   "source": [
    "clfs = {\n",
    "    'SVC':svc,\n",
    "    'KN':knc,\n",
    "    'MNB':mnb,\n",
    "    'BNB':bnb,\n",
    "    'GNB':gnb,\n",
    "    'DC':dc,\n",
    "    'RC':rc,\n",
    "    'RFC':rfc,\n",
    "    'ABC':abc,\n",
    "    'BC':bc,\n",
    "    'ETC':etc,\n",
    "    'GB':gbdt,\n",
    "    'XGB':xgb\n",
    "    }"
   ]
  },
  {
   "cell_type": "code",
   "execution_count": 30,
   "id": "c0b7e7a5",
   "metadata": {
    "execution": {
     "iopub.execute_input": "2024-04-12T12:51:53.644466Z",
     "iopub.status.busy": "2024-04-12T12:51:53.644058Z",
     "iopub.status.idle": "2024-04-12T12:51:53.650192Z",
     "shell.execute_reply": "2024-04-12T12:51:53.649006Z"
    },
    "papermill": {
     "duration": 0.029448,
     "end_time": "2024-04-12T12:51:53.652727",
     "exception": false,
     "start_time": "2024-04-12T12:51:53.623279",
     "status": "completed"
    },
    "tags": []
   },
   "outputs": [],
   "source": [
    "def train_classifier(clf,X_tain,y_train,X_test,y_test):\n",
    "    clf.fit(X_train,y_train)\n",
    "    y_pred = clf.predict(X_test)\n",
    "    accuracy =accuracy_score(y_test,y_pred)\n",
    "    precision = precision_score(y_test,y_pred)\n",
    "    return accuracy,precision\n",
    "    "
   ]
  },
  {
   "cell_type": "code",
   "execution_count": 31,
   "id": "a88d3981",
   "metadata": {
    "execution": {
     "iopub.execute_input": "2024-04-12T12:51:53.692477Z",
     "iopub.status.busy": "2024-04-12T12:51:53.692055Z",
     "iopub.status.idle": "2024-04-12T12:53:18.612259Z",
     "shell.execute_reply": "2024-04-12T12:53:18.610589Z"
    },
    "papermill": {
     "duration": 84.991894,
     "end_time": "2024-04-12T12:53:18.663251",
     "exception": false,
     "start_time": "2024-04-12T12:51:53.671357",
     "status": "completed"
    },
    "tags": []
   },
   "outputs": [
    {
     "data": {
      "text/plain": [
       "(0.806282722513089, 0.6349206349206349)"
      ]
     },
     "execution_count": 31,
     "metadata": {},
     "output_type": "execute_result"
    }
   ],
   "source": [
    "train_classifier(svc,X_train,y_train,X_test,y_test)"
   ]
  },
  {
   "cell_type": "code",
   "execution_count": 32,
   "id": "39af3b78",
   "metadata": {
    "execution": {
     "iopub.execute_input": "2024-04-12T12:53:18.732948Z",
     "iopub.status.busy": "2024-04-12T12:53:18.732525Z",
     "iopub.status.idle": "2024-04-12T13:07:20.843829Z",
     "shell.execute_reply": "2024-04-12T13:07:20.842821Z"
    },
    "papermill": {
     "duration": 842.142389,
     "end_time": "2024-04-12T13:07:20.846798",
     "exception": false,
     "start_time": "2024-04-12T12:53:18.704409",
     "status": "completed"
    },
    "tags": []
   },
   "outputs": [
    {
     "name": "stdout",
     "output_type": "stream",
     "text": [
      "For ---  SVC\n",
      "Accuracy -  0.806282722513089\n",
      "Precision -  0.6349206349206349\n",
      "For ---  KN\n",
      "Accuracy -  0.900523560209424\n",
      "Precision -  0.9444444444444444\n",
      "For ---  MNB\n",
      "Accuracy -  0.9895287958115183\n",
      "Precision -  0.9695945945945946\n",
      "For ---  BNB\n",
      "Accuracy -  0.9808027923211169\n",
      "Precision -  0.975177304964539\n",
      "For ---  GNB\n",
      "Accuracy -  0.9537521815008726\n",
      "Precision -  0.9340659340659341\n",
      "For ---  DC\n",
      "Accuracy -  0.9171029668411868\n",
      "Precision -  0.7945619335347432\n",
      "For ---  RC\n",
      "Accuracy -  0.9851657940663177\n",
      "Precision -  0.972318339100346\n",
      "For ---  RFC\n",
      "Accuracy -  0.9677137870855148\n",
      "Precision -  1.0\n",
      "For ---  ABC\n",
      "Accuracy -  0.962478184991274\n",
      "Precision -  0.9049180327868852\n",
      "For ---  BC\n",
      "Accuracy -  0.9720767888307156\n",
      "Precision -  0.9417808219178082\n",
      "For ---  ETC\n",
      "Accuracy -  0.9642233856893543\n",
      "Precision -  0.9920948616600791\n",
      "For ---  GB\n",
      "Accuracy -  0.9528795811518325\n",
      "Precision -  0.9609375\n",
      "For ---  XGB\n",
      "Accuracy -  0.987783595113438\n",
      "Precision -  0.9693877551020408\n"
     ]
    }
   ],
   "source": [
    "accuracy_scores = []\n",
    "precision_scores = []\n",
    "\n",
    "for name,clf in clfs.items():\n",
    "    real_accuracy,real_precision = train_classifier(clf,X_train,y_train,X_test,y_test)\n",
    "    print(\"For --- \",name)\n",
    "    print(\"Accuracy - \",real_accuracy)\n",
    "    print(\"Precision - \",real_precision)\n",
    "    \n",
    "    accuracy_scores.append(real_accuracy)\n",
    "    precision_scores.append(real_precision)\n",
    "\n"
   ]
  },
  {
   "cell_type": "code",
   "execution_count": 33,
   "id": "221732ae",
   "metadata": {
    "execution": {
     "iopub.execute_input": "2024-04-12T13:07:20.889272Z",
     "iopub.status.busy": "2024-04-12T13:07:20.888863Z",
     "iopub.status.idle": "2024-04-12T13:07:20.896991Z",
     "shell.execute_reply": "2024-04-12T13:07:20.895815Z"
    },
    "papermill": {
     "duration": 0.031729,
     "end_time": "2024-04-12T13:07:20.899272",
     "exception": false,
     "start_time": "2024-04-12T13:07:20.867543",
     "status": "completed"
    },
    "tags": []
   },
   "outputs": [],
   "source": [
    "performance_df = pd.DataFrame({'Algorithm':clfs.keys(),'Accuracy':accuracy_scores,'Precision':precision_scores}).sort_values(by =\"Accuracy\", ascending = False)"
   ]
  },
  {
   "cell_type": "code",
   "execution_count": 34,
   "id": "972f54f0",
   "metadata": {
    "execution": {
     "iopub.execute_input": "2024-04-12T13:07:20.941137Z",
     "iopub.status.busy": "2024-04-12T13:07:20.940721Z",
     "iopub.status.idle": "2024-04-12T13:07:20.953878Z",
     "shell.execute_reply": "2024-04-12T13:07:20.952681Z"
    },
    "papermill": {
     "duration": 0.037038,
     "end_time": "2024-04-12T13:07:20.956278",
     "exception": false,
     "start_time": "2024-04-12T13:07:20.919240",
     "status": "completed"
    },
    "tags": []
   },
   "outputs": [
    {
     "data": {
      "text/html": [
       "<div>\n",
       "<style scoped>\n",
       "    .dataframe tbody tr th:only-of-type {\n",
       "        vertical-align: middle;\n",
       "    }\n",
       "\n",
       "    .dataframe tbody tr th {\n",
       "        vertical-align: top;\n",
       "    }\n",
       "\n",
       "    .dataframe thead th {\n",
       "        text-align: right;\n",
       "    }\n",
       "</style>\n",
       "<table border=\"1\" class=\"dataframe\">\n",
       "  <thead>\n",
       "    <tr style=\"text-align: right;\">\n",
       "      <th></th>\n",
       "      <th>Algorithm</th>\n",
       "      <th>Accuracy</th>\n",
       "      <th>Precision</th>\n",
       "    </tr>\n",
       "  </thead>\n",
       "  <tbody>\n",
       "    <tr>\n",
       "      <th>2</th>\n",
       "      <td>MNB</td>\n",
       "      <td>0.989529</td>\n",
       "      <td>0.969595</td>\n",
       "    </tr>\n",
       "    <tr>\n",
       "      <th>12</th>\n",
       "      <td>XGB</td>\n",
       "      <td>0.987784</td>\n",
       "      <td>0.969388</td>\n",
       "    </tr>\n",
       "    <tr>\n",
       "      <th>6</th>\n",
       "      <td>RC</td>\n",
       "      <td>0.985166</td>\n",
       "      <td>0.972318</td>\n",
       "    </tr>\n",
       "    <tr>\n",
       "      <th>3</th>\n",
       "      <td>BNB</td>\n",
       "      <td>0.980803</td>\n",
       "      <td>0.975177</td>\n",
       "    </tr>\n",
       "    <tr>\n",
       "      <th>9</th>\n",
       "      <td>BC</td>\n",
       "      <td>0.972077</td>\n",
       "      <td>0.941781</td>\n",
       "    </tr>\n",
       "    <tr>\n",
       "      <th>7</th>\n",
       "      <td>RFC</td>\n",
       "      <td>0.967714</td>\n",
       "      <td>1.000000</td>\n",
       "    </tr>\n",
       "    <tr>\n",
       "      <th>10</th>\n",
       "      <td>ETC</td>\n",
       "      <td>0.964223</td>\n",
       "      <td>0.992095</td>\n",
       "    </tr>\n",
       "    <tr>\n",
       "      <th>8</th>\n",
       "      <td>ABC</td>\n",
       "      <td>0.962478</td>\n",
       "      <td>0.904918</td>\n",
       "    </tr>\n",
       "    <tr>\n",
       "      <th>4</th>\n",
       "      <td>GNB</td>\n",
       "      <td>0.953752</td>\n",
       "      <td>0.934066</td>\n",
       "    </tr>\n",
       "    <tr>\n",
       "      <th>11</th>\n",
       "      <td>GB</td>\n",
       "      <td>0.952880</td>\n",
       "      <td>0.960938</td>\n",
       "    </tr>\n",
       "    <tr>\n",
       "      <th>5</th>\n",
       "      <td>DC</td>\n",
       "      <td>0.917103</td>\n",
       "      <td>0.794562</td>\n",
       "    </tr>\n",
       "    <tr>\n",
       "      <th>1</th>\n",
       "      <td>KN</td>\n",
       "      <td>0.900524</td>\n",
       "      <td>0.944444</td>\n",
       "    </tr>\n",
       "    <tr>\n",
       "      <th>0</th>\n",
       "      <td>SVC</td>\n",
       "      <td>0.806283</td>\n",
       "      <td>0.634921</td>\n",
       "    </tr>\n",
       "  </tbody>\n",
       "</table>\n",
       "</div>"
      ],
      "text/plain": [
       "   Algorithm  Accuracy  Precision\n",
       "2        MNB  0.989529   0.969595\n",
       "12       XGB  0.987784   0.969388\n",
       "6         RC  0.985166   0.972318\n",
       "3        BNB  0.980803   0.975177\n",
       "9         BC  0.972077   0.941781\n",
       "7        RFC  0.967714   1.000000\n",
       "10       ETC  0.964223   0.992095\n",
       "8        ABC  0.962478   0.904918\n",
       "4        GNB  0.953752   0.934066\n",
       "11        GB  0.952880   0.960938\n",
       "5         DC  0.917103   0.794562\n",
       "1         KN  0.900524   0.944444\n",
       "0        SVC  0.806283   0.634921"
      ]
     },
     "execution_count": 34,
     "metadata": {},
     "output_type": "execute_result"
    }
   ],
   "source": [
    "performance_df"
   ]
  },
  {
   "cell_type": "code",
   "execution_count": null,
   "id": "dab6a280",
   "metadata": {
    "papermill": {
     "duration": 0.019863,
     "end_time": "2024-04-12T13:07:20.996384",
     "exception": false,
     "start_time": "2024-04-12T13:07:20.976521",
     "status": "completed"
    },
    "tags": []
   },
   "outputs": [],
   "source": []
  },
  {
   "cell_type": "code",
   "execution_count": null,
   "id": "5c2f819d",
   "metadata": {
    "papermill": {
     "duration": 0.019858,
     "end_time": "2024-04-12T13:07:21.036961",
     "exception": false,
     "start_time": "2024-04-12T13:07:21.017103",
     "status": "completed"
    },
    "tags": []
   },
   "outputs": [],
   "source": []
  }
 ],
 "metadata": {
  "kaggle": {
   "accelerator": "none",
   "dataSources": [
    {
     "datasetId": 4430520,
     "sourceId": 7609150,
     "sourceType": "datasetVersion"
    }
   ],
   "dockerImageVersionId": 30684,
   "isGpuEnabled": false,
   "isInternetEnabled": true,
   "language": "python",
   "sourceType": "notebook"
  },
  "kernelspec": {
   "display_name": "Python 3",
   "language": "python",
   "name": "python3"
  },
  "language_info": {
   "codemirror_mode": {
    "name": "ipython",
    "version": 3
   },
   "file_extension": ".py",
   "mimetype": "text/x-python",
   "name": "python",
   "nbconvert_exporter": "python",
   "pygments_lexer": "ipython3",
   "version": "3.10.13"
  },
  "papermill": {
   "default_parameters": {},
   "duration": 1239.583371,
   "end_time": "2024-04-12T13:07:21.983094",
   "environment_variables": {},
   "exception": null,
   "input_path": "__notebook__.ipynb",
   "output_path": "__notebook__.ipynb",
   "parameters": {},
   "start_time": "2024-04-12T12:46:42.399723",
   "version": "2.5.0"
  }
 },
 "nbformat": 4,
 "nbformat_minor": 5
}
